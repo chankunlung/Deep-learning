{
 "cells": [
  {
   "cell_type": "code",
   "execution_count": null,
   "metadata": {},
   "outputs": [],
   "source": [
    "import tensorflow as tf\n",
    "import matplotlib.pyplot as plt\n",
    "import numpy as np\n",
    "from PIL import Image"
   ]
  },
  {
   "cell_type": "code",
   "execution_count": null,
   "metadata": {},
   "outputs": [],
   "source": [
    "#讀取模型\n",
    "sess = tf.Session()\n",
    "saver = tf.train.import_meta_graph(\"./model/model.ckpt.meta\")\n",
    "saver.restore(sess, \"./model/model.ckpt\")"
   ]
  },
  {
   "cell_type": "code",
   "execution_count": null,
   "metadata": {},
   "outputs": [],
   "source": [
    "#載入、顯示圖片\n",
    "img = Image.open(\"./test.bmp\")\n",
    "plt.imshow(img,vmin=0,vmax=255)\n",
    "\n",
    "#將28X28的照片轉為784\n",
    "img = np.reshape(img,[-1,784])\n",
    "print(\"輸入的影像大小，轉成一維後:\",img.shape)\n",
    "\n",
    "graph = tf.get_default_graph()\n",
    "# tf.get_collection() 返回的是一個list. 但是這裡只要第一個參數(也就是預測的結果)即可\n",
    "y = tf.argmax(tf.get_collection('pred_network')[0],1)\n",
    "xs = graph.get_operation_by_name(\"input_image\").outputs[0]\n",
    "print(\"預測結果:\", sess.run(y,feed_dict={xs: img}))\n",
    "\n",
    "sess.close()\n",
    "exit()"
   ]
  }
 ],
 "metadata": {
  "kernelspec": {
   "display_name": "Python 3",
   "language": "python",
   "name": "python3"
  },
  "language_info": {
   "codemirror_mode": {
    "name": "ipython",
    "version": 3
   },
   "file_extension": ".py",
   "mimetype": "text/x-python",
   "name": "python",
   "nbconvert_exporter": "python",
   "pygments_lexer": "ipython3",
   "version": "3.6.5"
  }
 },
 "nbformat": 4,
 "nbformat_minor": 2
}
