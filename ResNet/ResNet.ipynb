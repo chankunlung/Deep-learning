{
 "cells": [
  {
   "cell_type": "code",
   "execution_count": null,
   "metadata": {
    "colab": {
     "autoexec": {
      "startup": false,
      "wait_interval": 0
     },
     "base_uri": "https://localhost:8080/",
     "height": 255
    },
    "colab_type": "code",
    "executionInfo": {
     "elapsed": 6495,
     "status": "ok",
     "timestamp": 1526996189421,
     "user": {
      "displayName": "Chih-Chung Hsu",
      "photoUrl": "https://lh3.googleusercontent.com/a/default-user=s128",
      "userId": "102019799566568636181"
     },
     "user_tz": -480
    },
    "id": "Hr6uu3lMzh0M",
    "outputId": "02cbe374-dd06-462d-d428-d898547d21d9"
   },
   "outputs": [],
   "source": [
    "import tensorflow as tf\n",
    "import numpy as np\n",
    "import os, pdb\n",
    "import cv2\n",
    "import numpy as np\n",
    "import random as rn\n",
    "import tensorflow as tf\n",
    "import threading\n",
    "import time\n",
    "\n",
    "global n_classes, layer_count \n",
    "n_classes = 50\n",
    "layer_count = 0"
   ]
  },
  {
   "cell_type": "code",
   "execution_count": null,
   "metadata": {},
   "outputs": [],
   "source": [
    "os.environ[\"CUDA_VISIBLE_DEVICES\"] = \"1\"\n",
    "gpu_options = tf.GPUOptions(allow_growth = True)"
   ]
  },
  {
   "cell_type": "code",
   "execution_count": null,
   "metadata": {
    "colab": {
     "autoexec": {
      "startup": false,
      "wait_interval": 0
     }
    },
    "colab_type": "code",
    "id": "tCNUC9U1zh0U"
   },
   "outputs": [],
   "source": [
    "#==========================================================================\n",
    "#=============Reading data in multithreading manner========================\n",
    "#==========================================================================\n",
    "def read_labeled_image_list(image_list_file, training_img_dir):\n",
    "    \"\"\"Reads a .txt file containing pathes and labeles\n",
    "    Args:\n",
    "       image_list_file: a .txt file with one /path/to/image per line\n",
    "       label: optionally, if set label will be pasted after each line\n",
    "    Returns:\n",
    "       List with all filenames in file image_list_file\n",
    "    \"\"\"\n",
    "    f = open(image_list_file, 'r')\n",
    "    filenames = []\n",
    "    labels = []\n",
    "\n",
    "    for line in f:\n",
    "        filename, label = line[:-1].split(' ')\n",
    "        filename = training_img_dir+filename\n",
    "        filenames.append(filename)\n",
    "        labels.append(int(label))\n",
    "        \n",
    "    return filenames, labels\n",
    "    \n",
    "    \n",
    "def read_images_from_disk(input_queue, size1=256):\n",
    "    \"\"\"Consumes a single filename and label as a ' '-delimited string.\n",
    "    Args:\n",
    "      filename_and_label_tensor: A scalar string tensor.\n",
    "    Returns:\n",
    "      Two tensors: the decoded image, and the string label.\n",
    "    \"\"\"\n",
    "    label = input_queue[1]\n",
    "    fn=input_queue[0]\n",
    "    file_contents = tf.read_file(input_queue[0])\n",
    "    example = tf.image.decode_jpeg(file_contents, channels=3)\n",
    "    \n",
    "    #example = tf.image.decode_png(file_contents, channels=3, name=\"dataset_image\") # png fo rlfw\n",
    "    example=tf.image.resize_images(example, [size1,size1])\n",
    "    return example, label, fn\n",
    "\n",
    "def setup_inputs(sess, filenames, training_img_dir, image_size=256, crop_size=224, isTest=False, batch_size=64):\n",
    "    \n",
    "    # Read each image file\n",
    "    image_list, label_list = read_labeled_image_list(filenames, training_img_dir)\n",
    "\n",
    "    images = tf.cast(image_list, tf.string)\n",
    "    labels = tf.cast(label_list, tf.int64)\n",
    "     # Makes an input queue\n",
    "    if isTest is False:\n",
    "        isShuffle = True\n",
    "        numThr = 4\n",
    "    else:\n",
    "        isShuffle = False\n",
    "        numThr = 1\n",
    "    \n",
    "    input_queue = tf.train.slice_input_producer([images, labels], shuffle=isShuffle)\n",
    "    image, y,fn = read_images_from_disk(input_queue)\n",
    "\n",
    "    channels = 3\n",
    "    image.set_shape([None, None, channels])\n",
    "        \n",
    "    # Crop and other random augmentations\n",
    "    if isTest is False:\n",
    "        image = tf.image.random_flip_left_right(image)\n",
    "        image = tf.image.random_flip_up_down(image)\n",
    "        image = tf.image.random_hue(image,0.05)\n",
    "        image = tf.image.random_saturation(image, .95, 1.05)\n",
    "        image = tf.image.random_brightness(image, .05)\n",
    "        image = tf.image.random_contrast(image, .95, 1.05)\n",
    "        image = tf.random_crop(image, [crop_size, crop_size, 3])\n",
    "    else:\n",
    "        image = tf.image.central_crop(image,(224/256))\n",
    "\n",
    "    image = tf.cast(image, tf.float32)/255.0\n",
    "    \n",
    "    #tensorflow內建取batch\n",
    "    image, y,fn = tf.train.batch([image, y, fn], batch_size=batch_size, capacity=batch_size*3, num_threads=numThr, name='labels_and_images')\n",
    "\n",
    "    tf.train.start_queue_runners(sess=sess)\n",
    "\n",
    "    return image, y, fn, len(label_list)\n"
   ]
  },
  {
   "cell_type": "code",
   "execution_count": null,
   "metadata": {
    "colab": {
     "autoexec": {
      "startup": false,
      "wait_interval": 0
     }
    },
    "colab_type": "code",
    "id": "zyjBt-MqVce6"
   },
   "outputs": [],
   "source": [
    "def initializer(in_filters, out_filters,name='wb', ks=3):\n",
    "    W = tf.get_variable(name+\"W\", [3,3, in_filters,out_filters], initializer=tf.truncated_normal_initializer())\n",
    "    b = tf.get_variable(name+\"B\", [out_filters], initializer=tf.truncated_normal_initializer())\n",
    "    return W, b\n",
    "\n",
    "def activation(x,name=\"activation\"):\n",
    "    return tf.nn.relu(x, name=name)\n",
    "    \n",
    "def conv2d(name, l_input, w, b, s, p):\n",
    "    l_input = tf.nn.conv2d(l_input, w, strides=[1,s,s,1], padding=p, name=name)\n",
    "    l_input = l_input+b\n",
    "\n",
    "    return l_input\n",
    "\n",
    "def max_pool(name, l_input, k, s):\n",
    "    return tf.nn.max_pool(l_input, ksize=[1, k, k, 1], strides=[1, s, s, 1], padding='VALID', name=name)\n",
    "\n",
    "def batchnorm(conv, isTraining, name='bn'):\n",
    "    return tf.layers.batch_normalization(conv, momentum = 0.997, training=isTraining, name=\"bn\"+name)\n"
   ]
  },
  {
   "cell_type": "code",
   "execution_count": null,
   "metadata": {
    "colab": {
     "autoexec": {
      "startup": false,
      "wait_interval": 0
     }
    },
    "colab_type": "code",
    "id": "94VSiHqhzh0S"
   },
   "outputs": [],
   "source": [
    "def residual_block(in_x, in_filters, out_filters, stride, isDownSampled, tst, name):\n",
    "    \n",
    "    if isDownSampled:\n",
    "        in_x = tf.nn.avg_pool(in_x,ksize=[1,2,2,1],strides=[1,2,2,1], padding =\"VALID\")\n",
    "    \n",
    "    # first convolution layer\n",
    "    global layer_count\n",
    "    \n",
    "    w1, b1 = initializer(in_filters, in_filters, name=name+'wb1')\n",
    "    \n",
    "    x = conv2d(name+'r1', in_x, w1, b1, stride, \"SAME\")\n",
    "    x = batchnorm(x, tst, name=name+\"bn1-1\")\n",
    "    x = activation(x)\n",
    "    layer_count+=1\n",
    "    print(\"Layer [%d] \" % (layer_count) , x.get_shape().as_list())\n",
    "    \n",
    "    # second convolution layer\n",
    "    w2, b2 = initializer(in_filters, out_filters, name=name+'wb2')\n",
    "    \n",
    "    x = conv2d(name+'r2', x, w2, b2, stride, \"SAME\")    \n",
    "    x = batchnorm(x, tst, name=name+\"bn1-2\")\n",
    "    x = activation(x)\n",
    "    layer_count+=1\n",
    "    print(\"Layer [%d] \" % (layer_count) , x.get_shape().as_list())\n",
    "    \n",
    "    if in_filters != out_filters:\n",
    "        \n",
    "        #==============conv1x1==============\n",
    "        kernel = tf.get_variable(name + \"identity_kernel\", [1,1, in_filters,out_filters], initializer = tf.contrib.layers.xavier_initializer(seed = 1))\n",
    "        identity = tf.nn.conv2d(in_x,kernel,strides = [1,1,1,1],padding = \"SAME\" )\n",
    "        identity = batchnorm(identity, tst, name=name+\"bn-identity\")\n",
    "        #==============conv1x1==============\n",
    "        \n",
    "        \"\"\"\n",
    "        #==============zero padding==============\n",
    "        difference = out_filters - in_filters\n",
    "        left_pad = difference // 2\n",
    "        right_pad = difference - left_pad\n",
    "        #tf.pad(target,batch,height,width,channel)\n",
    "        identity = tf.pad(in_x, [[0, 0], [0, 0], [0, 0], [left_pad, right_pad]])\n",
    "        #==============zero padding==============\n",
    "        \"\"\"\n",
    "        \n",
    "        print(\"Layer [%d] \" % (layer_count) , identity.get_shape().as_list())\n",
    "        return identity + x \n",
    "    else:\n",
    "        return in_x + x\n",
    "\n",
    "      \n",
    "def ResNet(_X, tst):\n",
    "    global n_classes\n",
    "    w1 = tf.get_variable(\"firstW\", [7,7,3, 64], initializer=tf.truncated_normal_initializer())\n",
    "    b1 = tf.get_variable(\"firstB\", [64], initializer=tf.truncated_normal_initializer())\n",
    "    \n",
    "    x = conv2d('conv1', _X, w1, b1, 3, \"VALID\")\n",
    "    x = batchnorm(x, tst, name='sbn')\n",
    "    x = tf.nn.relu(x)\n",
    "    \n",
    "    filters_num = [64,128,256,512]\n",
    "    block_num = [3,4,6,3]\n",
    "    strides=[1,1,1,1]\n",
    "    l_cnt = 1\n",
    "    for i in range(len(filters_num)):\n",
    "        for j in range(block_num[i]):\n",
    "            if ((j==block_num[i]-1) & (i<len(filters_num)-1)):\n",
    "                x = residual_block(x,filters_num[i], filters_num[i+1], strides[i], True,tst, 'RB_pool%d_%d'%(i,j))\n",
    "                print('[L-%d] Build %dth connection layer %d from %d to %d channels' % (l_cnt, i, j, filters_num[i], filters_num[i+1]))\n",
    "            else:\n",
    "                x = residual_block(x, filters_num[i], filters_num[i], strides[i], False ,tst, 'RB%d_%d'%(i,j))\n",
    "                print('[L-%d] Build %dth residual block %d with %d channels' % (l_cnt,i, j, filters_num[i]))\n",
    "            l_cnt +=1\n",
    "\n",
    "    wo, bo=initializer(filters_num[-1], n_classes, name='final_wb')\n",
    "    x = conv2d('final', x, wo, bo, 1, \"SAME\")\n",
    "    x = batchnorm(x, tst, name=\"final_bn1\")\n",
    "    x = activation(x, name='final_act')\n",
    "    \n",
    "    x = tf.reduce_mean(x, [1,2]) #b x7 x 7 x 50 ==> b x 1 x 1 x 50==>b x 50 ==> b x 50\n",
    "    W = tf.get_variable(\"FinalW\", [n_classes, n_classes], initializer=tf.truncated_normal_initializer())\n",
    "    b = tf.get_variable(\"FinalB\", [n_classes], initializer=tf.truncated_normal_initializer())\n",
    "    \n",
    "    out = tf.matmul(x, W) + b\n",
    "                            \n",
    "\n",
    "    return out"
   ]
  },
  {
   "cell_type": "code",
   "execution_count": null,
   "metadata": {
    "colab": {
     "autoexec": {
      "startup": false,
      "wait_interval": 0
     }
    },
    "colab_type": "code",
    "id": "h7AtFd4czh0W"
   },
   "outputs": [],
   "source": [
    "batch_size = 120\n",
    "display_step = 80\n",
    "learning_rate = tf.placeholder(tf.float32)      # Learning rate to be fed\n",
    "lr = 5e-2              # Learning rate start\n",
    "tst = tf.placeholder(tf.bool)"
   ]
  },
  {
   "cell_type": "code",
   "execution_count": null,
   "metadata": {
    "colab": {
     "autoexec": {
      "startup": false,
      "wait_interval": 0
     },
     "base_uri": "https://localhost:8080/",
     "height": 306
    },
    "colab_type": "code",
    "executionInfo": {
     "elapsed": 14118,
     "status": "ok",
     "timestamp": 1526996208162,
     "user": {
      "displayName": "Chih-Chung Hsu",
      "photoUrl": "https://lh3.googleusercontent.com/a/default-user=s128",
      "userId": "102019799566568636181"
     },
     "user_tz": -480
    },
    "id": "7LCc7xsQzh0Y",
    "outputId": "e389579f-4b1e-44ba-d0f0-6450d63d0183"
   },
   "outputs": [],
   "source": [
    "# Setup the tensorflow...\n",
    "sess = tf.Session(config=tf.ConfigProto(gpu_options = gpu_options))\n",
    "\n",
    "print(\"Preparing the training & validation data...\")\n",
    "train_data, train_labels, filelist1, glen1 = setup_inputs(sess, \"../../data/train.txt\", \"../../data/\", batch_size=batch_size)\n",
    "val_data, val_labels, filelist2, tlen1 = setup_inputs(sess, \"../../data/val.txt\", \"../../data/\",isTest=True, batch_size=batch_size)\n",
    "\n",
    "max_iter = glen1*50\n",
    "print(\"Preparing the training model with learning rate = %.5f...\" % (lr))\n",
    "\n",
    "\n",
    "with tf.variable_scope(\"ResNet\") as scope:\n",
    "    pred = ResNet(train_data, True)\n",
    "    scope.reuse_variables()\n",
    "    valpred = ResNet(val_data, False)\n",
    "\n",
    "with tf.name_scope('Loss_and_Accuracy'):\n",
    "    update_ops = tf.get_collection(tf.GraphKeys.UPDATE_OPS)\n",
    "    with tf.control_dependencies(update_ops):\n",
    "        cost = tf.losses.sparse_softmax_cross_entropy(labels=train_labels, logits=pred)\n",
    "        optimizer = tf.train.AdamOptimizer(learning_rate).minimize(cost)\n",
    "    \n",
    "    correct_prediction = tf.equal(tf.argmax(pred, 1), train_labels)\n",
    "    accuracy = tf.reduce_mean(tf.cast(correct_prediction, tf.float32))\n",
    "\n",
    "    correct_prediction2 = tf.equal(tf.argmax(valpred,1), val_labels)\n",
    "    accuracy2 = tf.reduce_mean(tf.cast(correct_prediction2, tf.float32))\n",
    "    \n",
    "    top_k_correct_prediction = tf.reduce_mean(tf.cast(tf.nn.in_top_k(valpred,val_labels,5),tf.float32))\n",
    "    top_k_accuracy = tf.reduce_mean(tf.cast(top_k_correct_prediction,tf.float32))\n",
    "    \n",
    "    #要寫入的資料\n",
    "    tf.summary.scalar('Loss', cost)\n",
    "    tf.summary.scalar('Training_Accuracy', accuracy)\n",
    "    tf.summary.scalar(\"Validation_Accuracy\", accuracy2)\n",
    "    tf.summary.scalar(\"Top_k_Accuracy\", top_k_accuracy)"
   ]
  },
  {
   "cell_type": "code",
   "execution_count": null,
   "metadata": {
    "colab": {
     "autoexec": {
      "startup": false,
      "wait_interval": 0
     },
     "base_uri": "https://localhost:8080/",
     "height": 340
    },
    "colab_type": "code",
    "id": "3CGfQ_Cbzh0c",
    "outputId": "9eb47eb1-8edf-4658-b376-1d190a2b1b12",
    "scrolled": true
   },
   "outputs": [],
   "source": [
    "saver = tf.train.Saver()\n",
    "init = tf.global_variables_initializer()\n",
    "train_accuracy = []\n",
    "test_accuracy = []\n",
    "sess.run(init)\n",
    "step = 0\n",
    "#將目前的網路圖，寫入/tmp/log2的資料夾\n",
    "writer = tf.summary.FileWriter(\"/tmp/log2\", sess.graph)\n",
    "#彙整要寫入tensorboard的資料\n",
    "summaries = tf.summary.merge_all()\n",
    "print(\"We are going to train the ImageNet model based on ResNet!!!\")\n",
    "while (step * batch_size) < max_iter:\n",
    "    epoch1=np.floor((step*batch_size)/glen1)\n",
    "    if (((step*batch_size)%glen1 < batch_size) & (lr==5e-2) & (epoch1 >10)):\n",
    "        lr /= 5\n",
    "    if (((step*batch_size)%glen1 < batch_size) & (lr==1e-2) & (epoch1 >20)):\n",
    "        lr /= 5\n",
    "    if (((step*batch_size)%glen1 < batch_size) & (lr==2e-3) & (epoch1 >30)):\n",
    "        lr /= 10\n",
    "    if (((step*batch_size)%glen1 < batch_size) & (lr==2e-4) & (epoch1 >40)):\n",
    "        lr /= 10\n",
    "    \n",
    "\n",
    "    sess.run(optimizer,  feed_dict={learning_rate: lr, tst: True})\n",
    "\n",
    "    if (step % 15000==1) & (step>15000):\n",
    "        save_path = saver.save(sess, \"tf_resnet_model_iter\" + str(step) + \".ckpt\")\n",
    "        print(\"Model saved in file at iteration %d: %s\" % (step*batch_size,save_path))\n",
    "\n",
    "    if step % display_step == 1:\n",
    "        # calculate the loss\n",
    "        \n",
    "        loss, acc, acc2,top_k, summaries_string = sess.run([cost, accuracy, accuracy2,top_k_accuracy ,summaries], feed_dict={ tst: True})\n",
    "        train_accuracy.append(acc)\n",
    "        test_accuracy.append(acc2)\n",
    "        print(\"Iter=%d/epoch=%d, Loss=%.6f, Training Accuracy=%.6f,Test Accuracy=%.6f,top_k Accuracy=%.6f, lr=%f\" \\\n",
    "              % (step*batch_size, epoch1 ,loss, acc,acc2,top_k, lr))\n",
    "        #將彙整好的資料寫入logs\n",
    "        writer.add_summary(summaries_string, step)\n",
    "        \n",
    "\n",
    "    step += 1\n",
    "print(\"Optimization Finished!\")\n",
    "save_path = saver.save(sess, \"tf_resnet_model.ckpt\")\n",
    "print(\"Model saved in file: %s\" % save_path)"
   ]
  }
 ],
 "metadata": {
  "accelerator": "GPU",
  "colab": {
   "collapsed_sections": [],
   "default_view": {},
   "name": "ResNet_init.ipynb",
   "provenance": [
    {
     "file_id": "1VL1sK4Hz_IsuhkyQRc8h2SD3w90OF1yp",
     "timestamp": 1526642217104
    }
   ],
   "version": "0.3.2",
   "views": {}
  },
  "kernelspec": {
   "display_name": "Python 3",
   "language": "python",
   "name": "python3"
  },
  "language_info": {
   "codemirror_mode": {
    "name": "ipython",
    "version": 3
   },
   "file_extension": ".py",
   "mimetype": "text/x-python",
   "name": "python",
   "nbconvert_exporter": "python",
   "pygments_lexer": "ipython3",
   "version": "3.6.5"
  }
 },
 "nbformat": 4,
 "nbformat_minor": 1
}
